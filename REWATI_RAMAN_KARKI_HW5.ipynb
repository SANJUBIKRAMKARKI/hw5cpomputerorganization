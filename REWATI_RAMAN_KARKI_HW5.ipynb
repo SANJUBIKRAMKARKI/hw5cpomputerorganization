{
  "nbformat": 4,
  "nbformat_minor": 0,
  "metadata": {
    "colab": {
      "provenance": [],
      "authorship_tag": "ABX9TyNBLyNltGJJfCTzYKfAS96W",
      "include_colab_link": true
    },
    "kernelspec": {
      "name": "python3",
      "display_name": "Python 3"
    },
    "language_info": {
      "name": "python"
    }
  },
  "cells": [
    {
      "cell_type": "markdown",
      "metadata": {
        "id": "view-in-github",
        "colab_type": "text"
      },
      "source": [
        "<a href=\"https://colab.research.google.com/github/SANJUBIKRAMKARKI/hw5cpomputerorganization/blob/main/REWATI_RAMAN_KARKI_HW5.ipynb\" target=\"_parent\"><img src=\"https://colab.research.google.com/assets/colab-badge.svg\" alt=\"Open In Colab\"/></a>"
      ]
    },
    {
      "cell_type": "code",
      "execution_count": 2,
      "metadata": {
        "colab": {
          "base_uri": "https://localhost:8080/"
        },
        "id": "jzju1CQ6hhcH",
        "outputId": "abcdc0f7-6807-4442-e0b2-c678a788e2e7"
      },
      "outputs": [
        {
          "output_type": "stream",
          "name": "stdout",
          "text": [
            "Memory after storing values: {800: 900, 900: 1000, 1500: 700}\n",
            "Accumulator after immediate load: 800\n",
            "Accumulator after direct load: 900\n",
            "Accumulator after indirect load: 1000\n",
            "Accumulator after indexed load: 700\n"
          ]
        }
      ],
      "source": [
        "class SimpleMemory:\n",
        "    def __init__(self):\n",
        "        self.storage = {}\n",
        "\n",
        "    def store_value(self, key, value):\n",
        "        self.storage[key] = value\n",
        "\n",
        "    def immediate_load(self, value):\n",
        "        return value\n",
        "\n",
        "    def direct_load(self, key):\n",
        "        return self.storage.get(key, None)\n",
        "\n",
        "    def indirect_load(self, key):\n",
        "        return self.storage.get(self.storage.get(key, None), None)\n",
        "\n",
        "    def indexed_load(self, base_key, index):\n",
        "        return self.storage.get(base_key + index, None)\n",
        "\n",
        "\n",
        "# Initialize memory\n",
        "memory = SimpleMemory()\n",
        "\n",
        "# Storing values\n",
        "memory.store_value(800, 123)\n",
        "memory.store_value(900, 1000)\n",
        "memory.store_value(800, 900)  # This will overwrite the previous value at key 800\n",
        "memory.store_value(1500, 700)\n",
        "\n",
        "# Printing memory after each store\n",
        "print(f\"Memory after storing values: {memory.storage}\")\n",
        "\n",
        "# Loading values into accumulator\n",
        "accumulator = memory.immediate_load(800)\n",
        "print(f\"Accumulator after immediate load: {accumulator}\")\n",
        "\n",
        "accumulator = memory.direct_load(800)\n",
        "print(f\"Accumulator after direct load: {accumulator}\")\n",
        "\n",
        "accumulator = memory.indirect_load(800)\n",
        "print(f\"Accumulator after indirect load: {accumulator}\")\n",
        "\n",
        "index_register = 700\n",
        "accumulator = memory.indexed_load(800, index_register)\n",
        "print(f\"Accumulator after indexed load: {accumulator}\")\n"
      ]
    },
    {
      "cell_type": "code",
      "source": [
        "class SimpleComputerMemory:\n",
        "    def __init__(self):\n",
        "        self.memory = {}\n",
        "        self.cache = {f\"{i:04b}\": [\"0000000\", [0] * 8, 0] for i in range(16)}\n",
        "\n",
        "    def store_in_memory(self, address, data):\n",
        "        self.memory[address] = data\n",
        "\n",
        "    def direct_map_cache(self, address):\n",
        "        block = address[7:11]\n",
        "        tag = address[:7]\n",
        "\n",
        "        if self.cache[block][2] == 0 or self.cache[block][0] == tag:\n",
        "            self.cache[block][0] = tag\n",
        "            self.cache[block][1] = self.memory.get(address[:14], [0] * 8)\n",
        "            self.cache[block][2] = 1\n",
        "        else:\n",
        "            print(f\"Block in the cache is occupied\")\n",
        "\n",
        "    def display_cache(self):\n",
        "        return self.cache\n",
        "\n",
        "\n",
        "# Initialize memory and cache\n",
        "computer_memory = SimpleComputerMemory()\n",
        "\n",
        "# Storing values in memory\n",
        "computer_memory.store_in_memory(\"00000110101000\", [0, 1, 2, 3, 4, 5, 6, 7])\n",
        "computer_memory.store_in_memory(\"00001110101000\", [10, 11, 12, 13, 14, 15, 16, 17])\n",
        "computer_memory.store_in_memory(\"00001110111000\", [20, 21, 22, 23, 24, 25, 26, 27])\n",
        "\n",
        "# Mapping addresses to cache\n",
        "computer_memory.direct_map_cache(\"00000110101010\")  # hex address: 1AA\n",
        "computer_memory.direct_map_cache(\"00001110101010\")  # hex address: 3AA\n",
        "computer_memory.direct_map_cache(\"00001110111111\")  # hex address: 7BF\n",
        "\n",
        "# Printing the cache\n",
        "print(computer_memory.display_cache())\n"
      ],
      "metadata": {
        "colab": {
          "base_uri": "https://localhost:8080/"
        },
        "id": "nlai1B1viquI",
        "outputId": "a780aaa0-d541-4582-f66d-218d15b4b083"
      },
      "execution_count": 3,
      "outputs": [
        {
          "output_type": "stream",
          "name": "stdout",
          "text": [
            "Block in the cache is occupied\n",
            "{'0000': ['0000000', [0, 0, 0, 0, 0, 0, 0, 0], 0], '0001': ['0000000', [0, 0, 0, 0, 0, 0, 0, 0], 0], '0010': ['0000000', [0, 0, 0, 0, 0, 0, 0, 0], 0], '0011': ['0000000', [0, 0, 0, 0, 0, 0, 0, 0], 0], '0100': ['0000000', [0, 0, 0, 0, 0, 0, 0, 0], 0], '0101': ['0000011', [0, 0, 0, 0, 0, 0, 0, 0], 1], '0110': ['0000000', [0, 0, 0, 0, 0, 0, 0, 0], 0], '0111': ['0000111', [0, 0, 0, 0, 0, 0, 0, 0], 1], '1000': ['0000000', [0, 0, 0, 0, 0, 0, 0, 0], 0], '1001': ['0000000', [0, 0, 0, 0, 0, 0, 0, 0], 0], '1010': ['0000000', [0, 0, 0, 0, 0, 0, 0, 0], 0], '1011': ['0000000', [0, 0, 0, 0, 0, 0, 0, 0], 0], '1100': ['0000000', [0, 0, 0, 0, 0, 0, 0, 0], 0], '1101': ['0000000', [0, 0, 0, 0, 0, 0, 0, 0], 0], '1110': ['0000000', [0, 0, 0, 0, 0, 0, 0, 0], 0], '1111': ['0000000', [0, 0, 0, 0, 0, 0, 0, 0], 0]}\n"
          ]
        }
      ]
    },
    {
      "cell_type": "code",
      "source": [
        "class FullyAssociativeCache:\n",
        "    def __init__(self):\n",
        "        self.memory = {}\n",
        "        self.cache = {f\"{i:04b}\": [\"0000000\", [0] * 8, 0] for i in range(4)}\n",
        "\n",
        "    def store_in_memory(self, address, data):\n",
        "        self.memory[address] = data\n",
        "\n",
        "    def map_to_cache(self, address):\n",
        "        tag = address[:11]\n",
        "\n",
        "        if address[:11] in self.memory:\n",
        "            for block in self.cache:\n",
        "                if self.cache[block][2] == 0:\n",
        "                    self.cache[block] = [tag, self.memory[address[:11]], 1]\n",
        "                    return\n",
        "            # If no empty block is found, replace the first block\n",
        "            block = list(self.cache.keys())[0]\n",
        "            self.cache[block] = [tag, self.memory[address[:11]], 1]\n",
        "        else:\n",
        "            print(f\"Address {address} not found in memory\")\n",
        "\n",
        "    def display_cache(self):\n",
        "        return self.cache\n",
        "\n",
        "\n",
        "# Initialize cache\n",
        "cache_system = FullyAssociativeCache()\n",
        "\n",
        "# Storing values in memory\n",
        "cache_system.store_in_memory(\"00000110101000\", [0, 1, 2, 3, 4, 5, 6, 7])\n",
        "\n",
        "# Mapping address to cache\n",
        "cache_system.map_to_cache(\"00000110101000\")  # hex address: 1A8\n",
        "\n",
        "# Printing the updated cache\n",
        "print(\"Updated Cache:\")\n",
        "print(cache_system.display_cache())\n"
      ],
      "metadata": {
        "colab": {
          "base_uri": "https://localhost:8080/"
        },
        "id": "CuT36UbDjbuY",
        "outputId": "a65ca6a5-d5c2-4ec4-8782-f495d3758235"
      },
      "execution_count": 4,
      "outputs": [
        {
          "output_type": "stream",
          "name": "stdout",
          "text": [
            "Address 00000110101000 not found in memory\n",
            "Updated Cache:\n",
            "{'0000': ['0000000', [0, 0, 0, 0, 0, 0, 0, 0], 0], '0001': ['0000000', [0, 0, 0, 0, 0, 0, 0, 0], 0], '0010': ['0000000', [0, 0, 0, 0, 0, 0, 0, 0], 0], '0011': ['0000000', [0, 0, 0, 0, 0, 0, 0, 0], 0]}\n"
          ]
        }
      ]
    },
    {
      "cell_type": "code",
      "source": [],
      "metadata": {
        "id": "ATYwP57Ejg_3"
      },
      "execution_count": null,
      "outputs": []
    }
  ]
}